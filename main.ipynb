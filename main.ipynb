{
 "cells": [
  {
   "cell_type": "markdown",
   "metadata": {},
   "source": [
    "Загрузка данных без обработки для анализа данных "
   ]
  },
  {
   "cell_type": "code",
   "execution_count": null,
   "metadata": {},
   "outputs": [],
   "source": [
    "from sklearn import preprocessing\n",
    "from sklearn.model_selection import train_test_split\n",
    "from keras.utils import np_utils\n",
    "from keras.models import Sequential\n",
    "from keras.layers import Dense, Dropout, LSTM\n",
    "from keras.models import model_from_json\n",
    "from keras.callbacks import EarlyStopping\n",
    "from keras.models import Sequential\n",
    "from keras.layers import Dense\n",
    "from keras.wrappers.scikit_learn import KerasClassifier\n",
    "from sklearn.model_selection import cross_val_score\n",
    "from sklearn.model_selection import StratifiedKFold\n",
    "from sklearn.preprocessing import StandardScaler\n",
    "from sklearn.pipeline import Pipeline\n",
    "import matplotlib.pyplot as plt\n",
    "import pandas as pd\n",
    "import numpy as np\n",
    "from pylab import rcParams\n",
    "rcParams['figure.figsize'] = 12, 10\n",
    "pd.set_option('display.max_columns', 10)\n",
    "np.set_printoptions(threshold=np.nan)\n",
    "\n",
    "\n",
    "def categorization(data_frame_name, *columns):\n",
    "    for column in columns:\n",
    "        data_frame_name[column] = data_frame_name[column].astype('category').cat.codes.astype(int)\n",
    "\n",
    "\n",
    "def neural_model_MLP():\n",
    "    model = Sequential()\n",
    "    model.add(Dense(49, input_shape=(7,), activation=\"relu\", kernel_initializer=\"normal\"))\n",
    "    model.add(Dense(1, activation=\"sigmoid\", kernel_initializer=\"normal\"))\n",
    "    model.compile(loss='binary_crossentropy', optimizer='adam', metrics=['accuracy'])\n",
    "    return model\n",
    "\n",
    "data_df = pd.read_csv('StudentsPerformance.csv')\n",
    "\n",
    "completed_df = data_df.loc[data_df['test preparation course'] == 'completed']\n",
    "not_completed_df = data_df.loc[data_df['test preparation course'] == 'none']\n",
    "\n",
    "completed_dict = dict()\n",
    "completed_dict['completed'] = len(completed_df)\n",
    "completed_dict['not_completed'] = len(not_completed_df)\n",
    "\n",
    "plt.bar(range(len(completed_dict)), list(completed_dict.values()), align='center')\n",
    "plt.xticks(range(len(completed_dict)), list(completed_dict.keys()))\n",
    "plt.title(\"test preparation course total amount statistics \")\n",
    "plt.ylabel(\"number of observations\")\n",
    "plt.show()"
   ]
  },
  {
   "cell_type": "markdown",
   "metadata": {},
   "source": [
    "Наблюдаем, что выборка не репрезентативная, так как количество наблюдений разделенных по целевой переменной сильно отличается.\n",
    "Для решения данной проблемы, далее отбрасываются лишние наблюдения для проведения более наглядного анализа. "
   ]
  },
  {
   "cell_type": "code",
   "execution_count": null,
   "metadata": {},
   "outputs": [],
   "source": [
    "completed_quantity = len(completed_df)\n",
    "not_completed_df = not_completed_df.drop(not_completed_df.index[:-completed_quantity])\n",
    "\n",
    "completed_dict = dict()\n",
    "completed_dict['completed'] = len(completed_df)\n",
    "completed_dict['not_completed'] = len(not_completed_df)\n",
    "\n",
    "plt.bar(range(len(completed_dict)), list(completed_dict.values()), align='center')\n",
    "plt.xticks(range(len(completed_dict)), list(completed_dict.keys()))\n",
    "plt.title(\"test preparation course total amount statistics \")\n",
    "plt.ylabel(\"number of observations\")\n",
    "plt.show()"
   ]
  },
  {
   "cell_type": "markdown",
   "metadata": {},
   "source": [
    "Далее проанализируем некоторые переменные:"
   ]
  },
  {
   "cell_type": "code",
   "execution_count": null,
   "metadata": {},
   "outputs": [],
   "source": [
    "gender_dict = dict()\n",
    "gender_dict['female completed'] = len(completed_df.loc[completed_df['gender'] == 'female'])\n",
    "gender_dict['female not_completed'] = len(not_completed_df.loc[not_completed_df['gender'] == 'female'])\n",
    "gender_dict['male completed'] = len(completed_df.loc[completed_df['gender'] == 'male'])\n",
    "gender_dict['male not_completed'] = len(not_completed_df.loc[not_completed_df['gender'] == 'male'])\n",
    "\n",
    "plt.bar(range(len(gender_dict)), list(gender_dict.values()), align='center')\n",
    "plt.xticks(range(len(gender_dict)), list(gender_dict.keys()))\n",
    "plt.title(\"lunch total amount statistics \")\n",
    "plt.ylabel(\"number of observations\")\n",
    "plt.show()"
   ]
  },
  {
   "cell_type": "markdown",
   "metadata": {},
   "source": [
    "Анализ влияния пола студетна на целевую переменную: как видим, девушек в выборке несколько больше, однако влияния пола на целевую переменную не обнаружено "
   ]
  },
  {
   "cell_type": "code",
   "execution_count": null,
   "metadata": {},
   "outputs": [],
   "source": [
    "lunch_dict = dict()\n",
    "lunch_dict['standard(completed)'] = len(completed_df.loc[completed_df['lunch'] == 'standard'])\n",
    "lunch_dict['standard(not completed)'] = len(not_completed_df.loc[not_completed_df['lunch'] == 'standard'])\n",
    "lunch_dict['free/reduced(completed)'] = len(completed_df.loc[completed_df['lunch'] == 'free/reduced'])\n",
    "lunch_dict['free/reduced(not completed)'] = len(not_completed_df.loc[not_completed_df['lunch'] == 'free/reduced'])\n",
    "\n",
    "plt.bar(range(len(lunch_dict)), list(lunch_dict.values()), align='center')\n",
    "plt.xticks(range(len(lunch_dict)), list(lunch_dict.keys()))\n",
    "plt.title(\"lunch total amount statistics \")\n",
    "plt.ylabel(\"number of observations\")\n",
    "plt.show()"
   ]
  },
  {
   "cell_type": "markdown",
   "metadata": {},
   "source": [
    "Наблюдаем небольшую корреляцию: Студенты с полным обедом чаще сдают тест, в то время, как с ограниченным обедом наоборот."
   ]
  },
  {
   "cell_type": "code",
   "execution_count": null,
   "metadata": {},
   "outputs": [],
   "source": [
    "education_dict_overal = dict()\n",
    "education_dict_overal['bachelor\\'s degree'] =\\\n",
    "    len(data_df.loc[data_df['parental level of education'] == 'bachelor\\'s degree'])\n",
    "education_dict_overal['master\\'s degree'] =\\\n",
    "    len(data_df.loc[data_df['parental level of education'] == 'master\\'s degree'])\n",
    "education_dict_overal['associate\\'s degree'] =\\\n",
    "    len(data_df.loc[data_df['parental level of education'] == 'associate\\'s degree'])\n",
    "education_dict_overal['some college'] =\\\n",
    "    len(data_df.loc[data_df['parental level of education'] == 'some college'])\n",
    "education_dict_overal['high school'] =\\\n",
    "    len(data_df.loc[data_df['parental level of education'] == 'high school'])\n",
    "\n",
    "plt.bar(range(len(education_dict_overal)), list(education_dict_overal.values()), align='center')\n",
    "plt.xticks(range(len(education_dict_overal)), list(education_dict_overal.keys()))\n",
    "plt.title(\"parental level of education total amount statistics \")\n",
    "plt.ylabel(\"number of observations\")\n",
    "plt.show()"
   ]
  },
  {
   "cell_type": "markdown",
   "metadata": {},
   "source": [
    "Распределение по ученым степеням."
   ]
  },
  {
   "cell_type": "markdown",
   "metadata": {},
   "source": [
    "Далее анализ сдачи теста по каждой ученой степени:"
   ]
  },
  {
   "cell_type": "code",
   "execution_count": null,
   "metadata": {},
   "outputs": [],
   "source": [
    "education_dict_high = dict()\n",
    "education_dict_high['high school(completed)'] =\\\n",
    "    len(completed_df.loc[completed_df['parental level of education'] == 'high school'])\n",
    "education_dict_high['high school(Not completed)'] =\\\n",
    "    len(not_completed_df.loc[not_completed_df['parental level of education'] == 'high school'])\n",
    "\n",
    "plt.bar(range(len(education_dict_high)), list(education_dict_high.values()), align='center')\n",
    "plt.xticks(range(len(education_dict_high)), list(education_dict_high.keys()))\n",
    "plt.title(\"parental level of education statistics\")\n",
    "plt.ylabel(\"number of observations\")\n",
    "plt.show()\n",
    "\n",
    "education_dict_some = dict()\n",
    "education_dict_some['some college(completed)'] =\\\n",
    "    len(completed_df.loc[completed_df['parental level of education'] == 'some college'])\n",
    "education_dict_some['some college(Not completed)'] =\\\n",
    "    len(not_completed_df.loc[not_completed_df['parental level of education'] == 'some college'])\n",
    "\n",
    "plt.bar(range(len(education_dict_some)), list(education_dict_some.values()), align='center')\n",
    "plt.xticks(range(len(education_dict_some)), list(education_dict_some.keys()))\n",
    "plt.title(\"parental level of education statistics\")\n",
    "plt.ylabel(\"number of observations\")\n",
    "plt.show()\n",
    "\n",
    "education_dict_associate = dict()\n",
    "education_dict_associate['associate\\'s degree(completed)'] =\\\n",
    "    len(completed_df.loc[completed_df['parental level of education'] == 'associate\\'s degree'])\n",
    "education_dict_associate['associate\\'s degree (Not completed)'] =\\\n",
    "    len(not_completed_df.loc[not_completed_df['parental level of education'] == 'associate\\'s degree'])\n",
    "\n",
    "plt.bar(range(len(education_dict_associate)), list(education_dict_associate.values()), align='center')\n",
    "plt.xticks(range(len(education_dict_associate)), list(education_dict_associate.keys()))\n",
    "plt.title(\"parental level of education statistics\")\n",
    "plt.ylabel(\"number of observations\")\n",
    "plt.show()\n",
    "\n",
    "education_dict_master = dict()\n",
    "education_dict_master['master\\'s degree(completed)'] =\\\n",
    "    len(completed_df.loc[completed_df['parental level of education'] == 'master\\'s degree'])\n",
    "education_dict_master['master\\'s degree(Not completed)'] =\\\n",
    "    len(not_completed_df.loc[not_completed_df['parental level of education'] == 'master\\'s degree'])\n",
    "\n",
    "plt.bar(range(len(education_dict_master)), list(education_dict_master.values()), align='center')\n",
    "plt.xticks(range(len(education_dict_master)), list(education_dict_master.keys()))\n",
    "plt.title(\"parental level of education statistics\")\n",
    "plt.ylabel(\"number of observations\")\n",
    "plt.show()\n",
    "\n",
    "education_dict_bachelor = dict()\n",
    "education_dict_bachelor['bachelor\\'s degree(completed)'] =\\\n",
    "    len(completed_df.loc[completed_df['parental level of education'] == 'bachelor\\'s degree'])\n",
    "education_dict_bachelor['bachelor\\'s degree(Not completed)'] =\\\n",
    "    len(not_completed_df.loc[not_completed_df['parental level of education'] == 'bachelor\\'s degree'])\n",
    "\n",
    "plt.bar(range(len(education_dict_bachelor)), list(education_dict_bachelor.values()), align='center')\n",
    "plt.xticks(range(len(education_dict_bachelor)), list(education_dict_bachelor.keys()))\n",
    "plt.title(\"parental level of education statistics\")\n",
    "plt.ylabel(\"number of observations\")\n",
    "plt.show()"
   ]
  },
  {
   "cell_type": "markdown",
   "metadata": {},
   "source": [
    "Как видим: относительно общего количества студентов каждой ученой степени, меньше всего сдали студенты группы 'high school' и больше всего студенты группы 'bachelor's degree' и 'associate's degree', что докажем следующими графиками в относительных величинах:"
   ]
  },
  {
   "cell_type": "code",
   "execution_count": null,
   "metadata": {},
   "outputs": [],
   "source": [
    "education_dict_comp = dict()\n",
    "education_dict_comp['bachelor\\'s degree(compl)'] =\\\n",
    "    len(completed_df.loc[completed_df['parental level of education'] == 'bachelor\\'s degree'])\\\n",
    "    / len(data_df.loc[data_df['parental level of education'] == 'bachelor\\'s degree'])\n",
    "education_dict_comp['master\\'s degree(compl)'] =\\\n",
    "    len(completed_df.loc[completed_df['parental level of education'] == 'master\\'s degree'])\\\n",
    "    / len(data_df.loc[data_df['parental level of education'] == 'master\\'s degree'])\n",
    "education_dict_comp['associate\\'s degree(compl)'] =\\\n",
    "    len(completed_df.loc[completed_df['parental level of education'] == 'associate\\'s degree'])\\\n",
    "    / len(data_df.loc[data_df['parental level of education'] == 'associate\\'s degree'])\n",
    "education_dict_comp['some college(compl)'] =\\\n",
    "    len(completed_df.loc[completed_df['parental level of education'] == 'some college'])\\\n",
    "    / len(data_df.loc[data_df['parental level of education'] == 'some college'])\n",
    "education_dict_comp['high school(compl)'] =\\\n",
    "    len(completed_df.loc[completed_df['parental level of education'] == 'high school'])\\\n",
    "    / len(data_df.loc[data_df['parental level of education'] == 'high school'])\n",
    "\n",
    "plt.bar(range(len(education_dict_comp)), list(education_dict_comp.values()), align='center')\n",
    "plt.xticks(range(len(education_dict_comp)), list(education_dict_comp.keys()))\n",
    "plt.title(\"parental level of education statistics of completed\")\n",
    "plt.ylabel(\"dimensionless quantity\")\n",
    "plt.show()\n",
    "\n",
    "education_dict_notcomp = dict()\n",
    "education_dict_notcomp['bachelor\\'s degree(not compl)'] =\\\n",
    "    len(not_completed_df.loc[not_completed_df['parental level of education'] == 'bachelor\\'s degree'])\\\n",
    "    / len(data_df.loc[data_df['parental level of education'] == 'bachelor\\'s degree'])\n",
    "education_dict_notcomp['master\\'s degree(not compl)'] =\\\n",
    "    len(not_completed_df.loc[not_completed_df['parental level of education'] == 'master\\'s degree'])\\\n",
    "    / len(data_df.loc[data_df['parental level of education'] == 'master\\'s degree'])\n",
    "education_dict_notcomp['associate\\'s degree(not compl)'] =\\\n",
    "    len(not_completed_df.loc[not_completed_df['parental level of education'] == 'associate\\'s degree'])\\\n",
    "    / len(data_df.loc[data_df['parental level of education'] == 'associate\\'s degree'])\n",
    "education_dict_notcomp['some college(not compl)'] =\\\n",
    "    len(not_completed_df.loc[not_completed_df['parental level of education'] == 'some college'])\\\n",
    "    / len(data_df.loc[data_df['parental level of education'] == 'some college'])\n",
    "education_dict_notcomp['high school(not compl)'] =\\\n",
    "    len(not_completed_df.loc[not_completed_df['parental level of education'] == 'high school'])\\\n",
    "    / len(data_df.loc[data_df['parental level of education'] == 'high school'])\n",
    "\n",
    "plt.bar(range(len(education_dict_notcomp)), list(education_dict_notcomp.values()), align='center')\n",
    "plt.xticks(range(len(education_dict_notcomp)), list(education_dict_notcomp.keys()))\n",
    "plt.title(\"parental level of education statistics of Not completed\")\n",
    "plt.ylabel(\"dimensionless quantity\")\n",
    "plt.show()"
   ]
  },
  {
   "cell_type": "markdown",
   "metadata": {},
   "source": [
    "Аналогичным образом можно проанализировать все остальные параметры, в том числе числовые, где можно наблюдать вид закона распределения значения переменной по всей выборке, дисперсию, медиану и моду {не успел:(}\n",
    "однако учитывая полученную точность модели, смею предположить что явных зависимостей мы так и не увидим, данные достаточно однородны, и вклад в классификацию равномерно распределен по всем переменным (и он, крайне невелик)"
   ]
  },
  {
   "cell_type": "markdown",
   "metadata": {},
   "source": [
    "Проведем простую подготовку данных: перевод категориальных переменных в числовые и дальнейшая нормализация всех данных, кроме целевой переменной."
   ]
  },
  {
   "cell_type": "code",
   "execution_count": null,
   "metadata": {},
   "outputs": [],
   "source": [
    "categorization(data_df, 'gender', 'race/ethnicity', 'parental level of education', 'lunch', 'test preparation course')\n",
    "data_df['target'] = data_df['test preparation course']\n",
    "data_df.drop('test preparation course', axis=1, inplace=True)\n",
    "\n",
    "seed = int(48)\n",
    "\n",
    "df_values = data_df.values\n",
    "y = df_values[:, 7]\n",
    "x = df_values[:, 0:7].astype(float)\n",
    "#x = preprocessing.scale(x)\n",
    "\n",
    "x_train, x_test, y_train, y_test = train_test_split(x, y, test_size=0.33, random_state=42)"
   ]
  },
  {
   "cell_type": "code",
   "execution_count": null,
   "metadata": {},
   "outputs": [],
   "source": [
    "model_MLP = neural_model_MLP()\n",
    "early_stopping = EarlyStopping(monitor='loss', min_delta=0.0001, patience=10, mode='min')\n",
    "\n",
    "accuracy_mlp = list()\n",
    "for iteration in range(10):\n",
    "    model_MLP.fit(x_train, y_train,\n",
    "                  batch_size=10, epochs=10000, verbose=0, callbacks=[early_stopping])\n",
    "    eval_MLP = model_MLP.evaluate(x_test, y_test, batch_size=400)\n",
    "    accuracy_mlp.append(eval_MLP[1])\n",
    "    print(\"MLP_%s: %.2f%%\" % (model_MLP.metrics_names[1], eval_MLP[1]*100))\n",
    "\n",
    "model_json = model_MLP.to_json()\n",
    "with open(\"model.json\", \"w\") as json_file:\n",
    "    json_file.write(model_json)\n",
    "model_MLP.save_weights(\"model.h5\")\n",
    "\n",
    "plt.plot(range(len(accuracy_mlp)), accuracy_mlp)\n",
    "plt.show()"
   ]
  },
  {
   "cell_type": "markdown",
   "metadata": {},
   "source": [
    "Как видим, модель дает невысокую точность и достаточно нестабильна. Так же испытывались более глубокие сети прямого распространения, однако они не дали весомого прироста, поэтому оставлена максимально простая архитектура для быстрого выполнения кода.\n"
   ]
  },
  {
   "cell_type": "markdown",
   "metadata": {},
   "source": [
    "проведем окончательную, более точную валидацию модели (занимает 1-2 минуты)"
   ]
  },
  {
   "cell_type": "code",
   "execution_count": null,
   "metadata": {},
   "outputs": [],
   "source": [
    "estimators = []\n",
    "estimators.append(('standardize', StandardScaler()))\n",
    "estimators.append(('mlp', KerasClassifier(build_fn=neural_model_MLP, epochs=50, batch_size=7, verbose=0)))\n",
    "pipeline = Pipeline(estimators)\n",
    "kfold = StratifiedKFold(n_splits=10, shuffle=True, random_state=seed)\n",
    "results = cross_val_score(pipeline, x, y, cv=kfold)\n",
    "print(\"Accuracy: %.2f%% (%.2f%%)\" % (results.mean()*100, results.std()*100))"
   ]
  },
  {
   "cell_type": "code",
   "execution_count": null,
   "metadata": {},
   "outputs": [],
   "source": []
  }
 ],
 "metadata": {
  "kernelspec": {
   "display_name": "Python 3",
   "language": "python",
   "name": "python3"
  },
  "language_info": {
   "codemirror_mode": {
    "name": "ipython",
    "version": 3
   },
   "file_extension": ".py",
   "mimetype": "text/x-python",
   "name": "python",
   "nbconvert_exporter": "python",
   "pygments_lexer": "ipython3",
   "version": "3.6.6"
  }
 },
 "nbformat": 4,
 "nbformat_minor": 2
}
